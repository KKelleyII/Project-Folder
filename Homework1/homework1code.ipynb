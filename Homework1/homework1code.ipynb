{
 "cells": [
  {
   "cell_type": "code",
   "execution_count": 7,
   "metadata": {},
   "outputs": [
    {
     "name": "stdout",
     "output_type": "stream",
     "text": [
      "87\n",
      "3\n",
      "215\n",
      "[3, 4, 6, 10, 12, 39, 54, 87]\n",
      "3\n",
      "4\n",
      "6\n",
      "10\n",
      "12\n",
      "39\n",
      "54\n",
      "87\n"
     ]
    }
   ],
   "source": [
    "#2.\tGiven a list:\n",
    "\n",
    "#list_a = [3, 4, 6, 10, 39, 87, 12, 54]\n",
    "\n",
    "#(a) Find the maximum, minimum, and summation number of the list\n",
    "\n",
    "list_a = [3, 4, 6, 10, 39, 87, 12, 54]\n",
    "print(max(list_a))\n",
    "print(min(list_a))\n",
    "print(sum(list_a))\n",
    "\n",
    "#(b) Sort the list in ascending order\n",
    "\n",
    "list_a.sort()\n",
    "print(list_a)\n",
    "\n",
    "#(c) Write a for loop to print each element in list_a\n",
    "\n",
    "for element in list_a:\n",
    "    print(element)"
   ]
  },
  {
   "cell_type": "code",
   "execution_count": 2,
   "metadata": {},
   "outputs": [
    {
     "name": "stdout",
     "output_type": "stream",
     "text": [
      "[2, 3, 5, 7, 11, 13, 17, 19, 23, 29, 31, 37, 41, 43, 47, 53, 59, 61, 67, 71, 73, 79, 83, 89, 97]\n",
      "[2, 3, 5, 7, 11, 13, 17, 19, 23, 29, 31, 37, 41, 43, 47, 53, 59, 61, 67, 71, 73, 79, 83, 89, 97, 101, 103, 107, 109, 113, 127, 131, 137, 139, 149, 151, 157, 163, 167, 173, 179, 181, 191, 193, 197, 199, 211, 223, 227, 229, 233, 239, 241, 251, 257, 263, 269, 271, 277, 281, 283, 293, 307, 311, 313, 317, 331, 337, 347, 349, 353, 359, 367, 373, 379, 383, 389, 397, 401, 409, 419, 421, 431, 433, 439, 443, 449, 457, 461, 463, 467, 479, 487, 491, 499, 503, 509, 521, 523, 541, 547, 557, 563, 569, 571, 577, 587, 593, 599, 601, 607, 613, 617, 619, 631, 641, 643, 647, 653, 659, 661, 673, 677, 683, 691, 701, 709, 719, 727, 733, 739, 743, 751, 757, 761, 769, 773, 787, 797, 809, 811, 821, 823, 827, 829, 839, 853, 857, 859, 863, 877, 881, 883, 887, 907, 911, 919, 929, 937, 941, 947, 953, 967, 971, 977, 983, 991, 997]\n"
     ]
    }
   ],
   "source": [
    "#3.\tA prime number is a whole number greater than 1 whose only factors are 1 and itself. \n",
    "#   A factor is a whole number that can be divided evenly into another number. \n",
    "\n",
    "#(a) Based on the definition of prime number, define a function to determine whether an input integer is a prime number or not\n",
    "\n",
    "import math as m\n",
    "\n",
    "def prime_find(num):\n",
    "    if num <= 1:\n",
    "        return False\n",
    "    for i in range(2, int(m.sqrt(num))+1):\n",
    "        if num % i == 0:\n",
    "            return False\n",
    "    return True\n",
    "\n",
    "#(b) Find all prime numbers below 100\n",
    "\n",
    "prime_b = [num for num in range(2,100) if prime_find(num)]\n",
    "print(prime_b)\n",
    "\n",
    "#(c) Define a function to find all prime numbers below a custom-defined number, n\n",
    "def prime_find_any(n):\n",
    "    return [num for num in range(2,n) if prime_find(num)]\n",
    "\n",
    "#(d) Call your defined function to find all prime numbers with n = 1000\n",
    "\n",
    "prime_find_1000 = prime_find_any(1000)\n",
    "print(prime_find_1000)"
   ]
  },
  {
   "cell_type": "code",
   "execution_count": 1,
   "metadata": {},
   "outputs": [
    {
     "name": "stdout",
     "output_type": "stream",
     "text": [
      "[[[0. 0. 0.]\n",
      "  [0. 0. 0.]\n",
      "  [0. 0. 0.]]\n",
      "\n",
      " [[0. 0. 0.]\n",
      "  [0. 0. 0.]\n",
      "  [0. 0. 0.]]\n",
      "\n",
      " [[0. 0. 0.]\n",
      "  [0. 0. 0.]\n",
      "  [0. 0. 0.]]\n",
      "\n",
      " [[0. 0. 0.]\n",
      "  [0. 0. 0.]\n",
      "  [0. 0. 0.]]\n",
      "\n",
      " [[0. 0. 0.]\n",
      "  [0. 0. 0.]\n",
      "  [0. 0. 0.]]\n",
      "\n",
      " [[0. 0. 0.]\n",
      "  [0. 0. 0.]\n",
      "  [0. 0. 0.]]\n",
      "\n",
      " [[0. 0. 0.]\n",
      "  [0. 0. 0.]\n",
      "  [0. 0. 0.]]\n",
      "\n",
      " [[0. 0. 0.]\n",
      "  [0. 0. 0.]\n",
      "  [0. 0. 0.]]\n",
      "\n",
      " [[0. 0. 0.]\n",
      "  [0. 0. 0.]\n",
      "  [0. 0. 0.]]\n",
      "\n",
      " [[0. 0. 0.]\n",
      "  [0. 0. 0.]\n",
      "  [0. 0. 0.]]]\n",
      "[[[73 30 93]\n",
      "  [35 93 35]\n",
      "  [76 21 92]]\n",
      "\n",
      " [[53 50  7]\n",
      "  [69 18 68]\n",
      "  [ 6 40 93]]\n",
      "\n",
      " [[10 30  9]\n",
      "  [33 65 17]\n",
      "  [ 4 66 74]]\n",
      "\n",
      " [[11 76  6]\n",
      "  [41 41 89]\n",
      "  [54 85  8]]\n",
      "\n",
      " [[14 77 72]\n",
      "  [25 81 89]\n",
      "  [51 54 82]]]\n"
     ]
    }
   ],
   "source": [
    "#4. a) Define a function to output a 3D (n×3×3) numpy array, where n is the input value (argument) of the function to control the length of the array, and data is the input value that determines what kind of data it contains\n",
    "import numpy as np\n",
    "\n",
    "def create_3d_array(n, data):\n",
    "    if data == \"zeroes\":\n",
    "        return np.zeros((n, 3, 3))  # Creating a 3D array with zeroes\n",
    "    elif data == \"random\":\n",
    "        return np.random.randint(1, 101, size=(n, 3, 3))  # Random numbers between 1 and 100\n",
    "    else:\n",
    "        raise ValueError(\"Unsupported data type. Use 'zeroes' or 'random'.\")\n",
    "\n",
    "#  (b) Call the function for n=10 and populate the array with zeroes\n",
    "array_zeroes = create_3d_array(10, \"zeroes\")\n",
    "print(array_zeroes)\n",
    "\n",
    "#  (c) Call the function for n=5 and populate the array with random numbers between 1 and 100\n",
    "array_random = create_3d_array(5, \"random\")\n",
    "print(array_random)\n",
    "\n"
   ]
  },
  {
   "cell_type": "code",
   "execution_count": 4,
   "metadata": {},
   "outputs": [
    {
     "name": "stdout",
     "output_type": "stream",
     "text": [
      "a = -1.6999999999999995\n",
      "b = 1.9\n",
      "c = -1.4999999999999998\n"
     ]
    }
   ],
   "source": [
    "#5.\tSolve following set of equations using linear algebra and numpy.\n",
    "\n",
    "#3a + 4b -5c = 10\n",
    "#5b + c = 8\n",
    "#a + 3b + 6c = -5\n",
    "\n",
    "import numpy as np\n",
    "\n",
    "A = np.array([[3, 4, -5], [0, 5, 1],[1, 3, 6]])\n",
    "\n",
    "B = np.array([10, 8, -5])\n",
    "\n",
    "X = np.linalg.solve(A, B)\n",
    "\n",
    "print(f\"a = {X[0]}\")\n",
    "print(f\"b = {X[1]}\")\n",
    "print(f\"c = {X[2]}\")\n",
    "\n"
   ]
  },
  {
   "cell_type": "code",
   "execution_count": 5,
   "metadata": {},
   "outputs": [
    {
     "data": {
      "image/png": "[encoded data removed]",
      "text/plain": [
       "<Figure size 640x480 with 1 Axes>"
      ]
     },
     "metadata": {},
     "output_type": "display_data"
    }
   ],
   "source": [
    "#6.\tGiven an expression:\n",
    "\n",
    "#y = 0.1x^3-x^2+5\n",
    "\n",
    "#(a) Plot the function in the range of x from -5 to 5\n",
    "\n",
    "import numpy as np\n",
    "import matplotlib.pyplot as plt\n",
    "\n",
    "def func(x):\n",
    "    return 0.1 * x**3 - x**2 + 5\n",
    "\n",
    "x_vals = np.linspace(-5, 5, 400)\n",
    "y_vals = func(x_vals)\n",
    "plt.plot(x_vals, y_vals, label=\"y = 0.1x^3 - x^2 + 5\")\n",
    "\n",
    "#(b) Find the maximum and minimum value of this function and add them with points and labels on the same figure\n",
    "\n",
    "def derivative(x):\n",
    "    return 0.3 * x**2 - 2 * x\n",
    "\n",
    "from scipy.optimize import fsolve\n",
    "\n",
    "critical_points = fsolve(derivative, [-5, 0, 5])\n",
    "\n",
    "for point in critical_points:\n",
    "    plt.plot(point, func(point), 'ro')  # Red dots at critical points\n",
    "    plt.text(point, func(point), f\"({point:.2f}, {func(point):.2f})\", \n",
    "             verticalalignment='bottom', horizontalalignment='right')\n",
    "\n",
    "plt.title(\"Plot of y = 0.1x^3 - x^2 + 5 with Critical Points\")\n",
    "plt.xlabel(\"x\")\n",
    "plt.ylabel(\"y\")\n",
    "plt.grid(True)\n",
    "plt.legend()\n",
    "plt.show()\n"
   ]
  }
 ],
 "metadata": {
  "kernelspec": {
   "display_name": "base",
   "language": "python",
   "name": "python3"
  },
  "language_info": {
   "codemirror_mode": {
    "name": "ipython",
    "version": 3
   },
   "file_extension": ".py",
   "mimetype": "text/x-python",
   "name": "python",
   "nbconvert_exporter": "python",
   "pygments_lexer": "ipython3",
   "version": "3.12.7"
  }
 },
 "nbformat": 4,
 "nbformat_minor": 2
}
