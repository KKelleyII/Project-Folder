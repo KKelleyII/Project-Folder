{
 "cells": [
  {
   "cell_type": "code",
   "execution_count": 7,
   "metadata": {},
   "outputs": [
    {
     "name": "stdout",
     "output_type": "stream",
     "text": [
      "87\n",
      "3\n",
      "215\n",
      "[3, 4, 6, 10, 12, 39, 54, 87]\n",
      "3\n",
      "4\n",
      "6\n",
      "10\n",
      "12\n",
      "39\n",
      "54\n",
      "87\n"
     ]
    }
   ],
   "source": [
    "#2.\tGiven a list:\n",
    "\n",
    "#list_a = [3, 4, 6, 10, 39, 87, 12, 54]\n",
    "\n",
    "#(a) Find the maximum, minimum, and summation number of the list\n",
    "\n",
    "list_a = [3, 4, 6, 10, 39, 87, 12, 54]\n",
    "print(max(list_a))\n",
    "print(min(list_a))\n",
    "print(sum(list_a))\n",
    "\n",
    "#(b) Sort the list in ascending order\n",
    "\n",
    "list_a.sort()\n",
    "print(list_a)\n",
    "\n",
    "#(c) Write a for loop to print each element in list_a\n",
    "\n",
    "for element in list_a:\n",
    "    print(element)"
   ]
  },
  {
   "cell_type": "code",
   "execution_count": 2,
   "metadata": {},
   "outputs": [
    {
     "name": "stdout",
     "output_type": "stream",
     "text": [
      "[2, 3, 5, 7, 11, 13, 17, 19, 23, 29, 31, 37, 41, 43, 47, 53, 59, 61, 67, 71, 73, 79, 83, 89, 97]\n",
      "[2, 3, 5, 7, 11, 13, 17, 19, 23, 29, 31, 37, 41, 43, 47, 53, 59, 61, 67, 71, 73, 79, 83, 89, 97, 101, 103, 107, 109, 113, 127, 131, 137, 139, 149, 151, 157, 163, 167, 173, 179, 181, 191, 193, 197, 199, 211, 223, 227, 229, 233, 239, 241, 251, 257, 263, 269, 271, 277, 281, 283, 293, 307, 311, 313, 317, 331, 337, 347, 349, 353, 359, 367, 373, 379, 383, 389, 397, 401, 409, 419, 421, 431, 433, 439, 443, 449, 457, 461, 463, 467, 479, 487, 491, 499, 503, 509, 521, 523, 541, 547, 557, 563, 569, 571, 577, 587, 593, 599, 601, 607, 613, 617, 619, 631, 641, 643, 647, 653, 659, 661, 673, 677, 683, 691, 701, 709, 719, 727, 733, 739, 743, 751, 757, 761, 769, 773, 787, 797, 809, 811, 821, 823, 827, 829, 839, 853, 857, 859, 863, 877, 881, 883, 887, 907, 911, 919, 929, 937, 941, 947, 953, 967, 971, 977, 983, 991, 997]\n"
     ]
    }
   ],
   "source": [
    "#3.\tA prime number is a whole number greater than 1 whose only factors are 1 and itself. \n",
    "#   A factor is a whole number that can be divided evenly into another number. \n",
    "\n",
    "#(a) Based on the definition of prime number, define a function to determine whether an input integer is a prime number or not\n",
    "\n",
    "import math as m\n",
    "\n",
    "def prime_find(num):\n",
    "    if num <= 1:\n",
    "        return False\n",
    "    for i in range(2, int(m.sqrt(num))+1):\n",
    "        if num % i == 0:\n",
    "            return False\n",
    "    return True\n",
    "\n",
    "#(b) Find all prime numbers below 100\n",
    "\n",
    "prime_b = [num for num in range(2,100) if prime_find(num)]\n",
    "print(prime_b)\n",
    "\n",
    "#(c) Define a function to find all prime numbers below a custom-defined number, n\n",
    "\n",
    "def prime_find_any(n):\n",
    "    return [num for num in range(2,n) if prime_find(num)]\n",
    "\n",
    "#(d) Call your defined function to find all prime numbers with n = 1000\n",
    "\n",
    "prime_find_1000 = prime_find_any(1000)\n",
    "print(prime_find_1000)"
   ]
  },
  {
   "cell_type": "code",
   "execution_count": null,
   "metadata": {},
   "outputs": [],
   "source": []
  }
 ],
 "metadata": {
  "kernelspec": {
   "display_name": "base",
   "language": "python",
   "name": "python3"
  },
  "language_info": {
   "codemirror_mode": {
    "name": "ipython",
    "version": 3
   },
   "file_extension": ".py",
   "mimetype": "text/x-python",
   "name": "python",
   "nbconvert_exporter": "python",
   "pygments_lexer": "ipython3",
   "version": "3.12.7"
  }
 },
 "nbformat": 4,
 "nbformat_minor": 2
}
